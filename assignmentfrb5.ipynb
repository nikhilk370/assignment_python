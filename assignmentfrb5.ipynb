{
 "cells": [
  {
   "cell_type": "code",
   "execution_count": 1,
   "id": "d9223ac8-5365-4ee7-9bf2-a21aff9d3c22",
   "metadata": {},
   "outputs": [
    {
     "data": {
      "text/plain": [
       "'A class is a templet or blueprint that describe how it is going to behave.  We can think of the class as a sketch (prototype) of a house. It contains all the details about the floors, doors, windows, etc. Based on these descriptions we build the house. House is the object.\\nSince many houses can be made from the same description, we can create many objects from a class.\\n\\nAn object is called an instance of a class. For example, suppose Bike is a class then we can create objects like model, company, etc from the class.'"
      ]
     },
     "execution_count": 1,
     "metadata": {},
     "output_type": "execute_result"
    }
   ],
   "source": [
    "# Question 1\n",
    "\"\"\"A class is a templet or blueprint that describe how it is going to behave.  We can think of the class as a sketch (prototype) of a house. It contains all the details about the floors, doors, windows, etc. Based on these descriptions we build the house. House is the object.\n",
    "Since many houses can be made from the same description, we can create many objects from a class.\n",
    "\n",
    "An object is called an instance of a class. For example, suppose Bike is a class then we can create objects like model, company, etc from the class.\"\"\"\n"
   ]
  },
  {
   "cell_type": "code",
   "execution_count": 2,
   "id": "773b2430-6936-4d1c-985e-a6022f2ae3a1",
   "metadata": {},
   "outputs": [
    {
     "data": {
      "text/plain": [
       "'Inheritance, Polymorphism, Encapsulation and Abstraction are the four pillars of OOPs '"
      ]
     },
     "execution_count": 2,
     "metadata": {},
     "output_type": "execute_result"
    }
   ],
   "source": [
    "# Question 2\n",
    "\"\"\"Inheritance, Polymorphism, Encapsulation and Abstraction are the four pillars of OOPs \"\"\"\n"
   ]
  },
  {
   "cell_type": "code",
   "execution_count": 36,
   "id": "e95d46e6-ee4b-4985-b27e-eef7a9b3e55a",
   "metadata": {},
   "outputs": [
    {
     "name": "stdout",
     "output_type": "stream",
     "text": [
      "3/4\n"
     ]
    }
   ],
   "source": [
    "#Question 3\n",
    "\"\"\" __init__ is a constructor that is a special method magic method that excute automatically whenever  the particular class is called without asking from the user. it takes the values while variable declaration\"\"\"\n",
    "\n",
    "class fraction :\n",
    "    def __init__ (self, a ,b):\n",
    "        self.__den = b\n",
    "        self.__num = a\n",
    "        \n",
    "    def __str__(self):\n",
    "        return \"{}/{}\".format(self.__num, self.__den)\n",
    "\n",
    "\n",
    "x=fraction(3,4)\n",
    "print(x)"
   ]
  },
  {
   "cell_type": "code",
   "execution_count": 38,
   "id": "5de83d01-3c92-4ffb-b464-4e5a9fb8a095",
   "metadata": {},
   "outputs": [
    {
     "data": {
      "text/plain": [
       "'self is used as pointer. inside a class methods and objcts do not communicate wth each other so self is used that take the object and methods to each other.'"
      ]
     },
     "execution_count": 38,
     "metadata": {},
     "output_type": "execute_result"
    }
   ],
   "source": [
    "#Queston 4\n",
    "\"\"\"self is used as pointer. inside a class methods and objcts do not communicate wth each other so self is used that take the object and methods to each other.\"\"\"\n"
   ]
  },
  {
   "cell_type": "code",
   "execution_count": 39,
   "id": "7789190c-2912-4df8-ae8c-109f84f36961",
   "metadata": {},
   "outputs": [
    {
     "data": {
      "text/plain": [
       "'Inheritance is a mechanism in which one class acquires the property of another class. For example, a child inherits the traits of his/her parents. With inheritance, we can reuse the fields and methods of the existing class. Hence, inheritance facilitates Reusability and is an important concept of OOPs.'"
      ]
     },
     "execution_count": 39,
     "metadata": {},
     "output_type": "execute_result"
    }
   ],
   "source": [
    "#Qestion 5\n",
    "\"\"\"Inheritance is a mechanism in which one class acquires the property of another class. For example, a child inherits the traits of his/her parents. With inheritance, we can reuse the fields and methods of the existing class. Hence, inheritance facilitates Reusability and is an important concept of OOPs.\"\"\"\n"
   ]
  },
  {
   "cell_type": "code",
   "execution_count": null,
   "id": "ec7f03b9-2898-4d02-a48f-0895cbaafdfc",
   "metadata": {},
   "outputs": [],
   "source": []
  }
 ],
 "metadata": {
  "kernelspec": {
   "display_name": "Python 3 (ipykernel)",
   "language": "python",
   "name": "python3"
  },
  "language_info": {
   "codemirror_mode": {
    "name": "ipython",
    "version": 3
   },
   "file_extension": ".py",
   "mimetype": "text/x-python",
   "name": "python",
   "nbconvert_exporter": "python",
   "pygments_lexer": "ipython3",
   "version": "3.10.6"
  }
 },
 "nbformat": 4,
 "nbformat_minor": 5
}

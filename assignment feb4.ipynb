{
 "cells": [
  {
   "cell_type": "code",
   "execution_count": 1,
   "id": "485942a1-04e1-4b34-9b00-e23760a7ab29",
   "metadata": {},
   "outputs": [
    {
     "name": "stdout",
     "output_type": "stream",
     "text": [
      "[('Virat Kohli', 24936), ('Jack Kallis', 25534), ('Ricky Ponting', 27483), ('Sachin Tendulkar', 34357)]\n"
     ]
    }
   ],
   "source": [
    "#Question1\n",
    "l=[('Sachin Tendulkar', 34357), ('Ricky Ponting', 27483), ('Jack Kallis', 25534), ('Virat Kohli', 24936)]\n",
    "l.sort(key = lambda x:x[1])\n",
    "print (l)"
   ]
  },
  {
   "cell_type": "code",
   "execution_count": 2,
   "id": "7ce9d5e7-f307-46f3-9e06-37c878def1ee",
   "metadata": {},
   "outputs": [],
   "source": [
    "l=[1,2,3,4,5,6,7,8,9,10]"
   ]
  },
  {
   "cell_type": "code",
   "execution_count": 3,
   "id": "c5700e57-6863-4c5a-b4e1-045b7ff7a82d",
   "metadata": {},
   "outputs": [
    {
     "data": {
      "text/plain": [
       "[1, 4, 9, 16, 25, 36, 49, 64, 81, 100]"
      ]
     },
     "execution_count": 3,
     "metadata": {},
     "output_type": "execute_result"
    }
   ],
   "source": [
    "#question 2\n",
    "list(map(lambda x:x**2,l))"
   ]
  },
  {
   "cell_type": "code",
   "execution_count": 4,
   "id": "71d2ef7e-6f3d-45d1-8833-2772bd7b3e29",
   "metadata": {},
   "outputs": [
    {
     "data": {
      "text/plain": [
       "['1', '2', '3', '4', '5', '6', '7', '8', '9', '10']"
      ]
     },
     "execution_count": 4,
     "metadata": {},
     "output_type": "execute_result"
    }
   ],
   "source": [
    "#question3\n",
    "\n",
    "a=lambda x:str(x)\n",
    "list(map(a,l))"
   ]
  },
  {
   "cell_type": "code",
   "execution_count": 5,
   "id": "4528820e-6e70-44c5-a6f9-86107270a0b8",
   "metadata": {},
   "outputs": [
    {
     "data": {
      "text/plain": [
       "15511210043330985984000000"
      ]
     },
     "execution_count": 5,
     "metadata": {},
     "output_type": "execute_result"
    }
   ],
   "source": [
    "#question 4\n",
    "from functools import reduce\n",
    "l1=[1,2,3,4,5,6,7,8,9,10,11,12,13,14,15,16,17,18,19,20,21,22,23,24,25]\n",
    "reduce(lambda x,y:x*y, l1)"
   ]
  },
  {
   "cell_type": "code",
   "execution_count": 6,
   "id": "dc816b3a-99fd-4cff-8702-b455245d5df6",
   "metadata": {},
   "outputs": [
    {
     "data": {
      "text/plain": [
       "[6, 60, 90, 120]"
      ]
     },
     "execution_count": 6,
     "metadata": {},
     "output_type": "execute_result"
    }
   ],
   "source": [
    "#question 5\n",
    "l3=[2, 3, 6, 9, 27, 60, 90, 120, 55, 46]\n",
    "list(filter(lambda x:  x%2==0 and x%3==0 , l3))"
   ]
  },
  {
   "cell_type": "code",
   "execution_count": 7,
   "id": "b2923ce7-dbb4-41e9-9347-e509a29ab567",
   "metadata": {},
   "outputs": [
    {
     "data": {
      "text/plain": [
       "['php', 'aba', 'radar', 'level']"
      ]
     },
     "execution_count": 7,
     "metadata": {},
     "output_type": "execute_result"
    }
   ],
   "source": [
    "#question 6\n",
    "l4=['python', 'php', 'aba', 'radar', 'level']\n",
    "list(filter(lambda x: x==x[::-1], l4))"
   ]
  },
  {
   "cell_type": "code",
   "execution_count": null,
   "id": "14fd2394-183c-4d65-b3f0-12a9c85eaca1",
   "metadata": {},
   "outputs": [],
   "source": []
  }
 ],
 "metadata": {
  "kernelspec": {
   "display_name": "Python 3 (ipykernel)",
   "language": "python",
   "name": "python3"
  },
  "language_info": {
   "codemirror_mode": {
    "name": "ipython",
    "version": 3
   },
   "file_extension": ".py",
   "mimetype": "text/x-python",
   "name": "python",
   "nbconvert_exporter": "python",
   "pygments_lexer": "ipython3",
   "version": "3.10.6"
  }
 },
 "nbformat": 4,
 "nbformat_minor": 5
}

{
 "cells": [
  {
   "cell_type": "code",
   "execution_count": 3,
   "id": "f9b7b0be-98ee-4bab-986b-c709ab6fe534",
   "metadata": {},
   "outputs": [
    {
     "name": "stdout",
     "output_type": "stream",
     "text": [
      "1\n",
      "3\n",
      "5\n",
      "7\n",
      "9\n",
      "11\n",
      "13\n",
      "15\n",
      "17\n",
      "19\n",
      "21\n",
      "23\n",
      "25\n"
     ]
    }
   ],
   "source": [
    "#question1 \n",
    "# def keyword is used to define a function.\n",
    "\n",
    "#program to return odd numbers\n",
    "\n",
    "for i in range(0,26):\n",
    "    if i%2==1 :\n",
    "        print(i)\n",
    "    else :\n",
    "        continue"
   ]
  },
  {
   "cell_type": "code",
   "execution_count": 9,
   "id": "b333ea3d-afc0-4189-8aed-886ba0fd5fc7",
   "metadata": {},
   "outputs": [],
   "source": [
    "#Question 2\n",
    "# to pass a large number of values in a function as argument *args is used that stored as tuple\n",
    "# to pass a dictionary as argument in a function **kwargs is used\n",
    "\n",
    "\n",
    "def fun1(*args):\n",
    "    sum =0\n",
    "    for i in range (0,len(args)+1):\n",
    "        sum = sum +i\n",
    "    return sum\n",
    "\n",
    "def fun2(**kwargs):\n",
    "    return type(kwargs), kwargs"
   ]
  },
  {
   "cell_type": "code",
   "execution_count": 8,
   "id": "73e2bddf-41f4-4785-8f9b-5e299f30190e",
   "metadata": {},
   "outputs": [
    {
     "data": {
      "text/plain": [
       "28"
      ]
     },
     "execution_count": 8,
     "metadata": {},
     "output_type": "execute_result"
    }
   ],
   "source": [
    "fun1(1,2,3,4,5,6,7)"
   ]
  },
  {
   "cell_type": "code",
   "execution_count": 21,
   "id": "47133d76-ca32-49bd-8e78-3de5196ddfb3",
   "metadata": {},
   "outputs": [
    {
     "data": {
      "text/plain": [
       "(dict, {'a': 3, 'b': 4, 'c': 'nik'})"
      ]
     },
     "execution_count": 21,
     "metadata": {},
     "output_type": "execute_result"
    }
   ],
   "source": [
    "fun2(a=3,b=4, c=\"nik\")"
   ]
  },
  {
   "cell_type": "code",
   "execution_count": 24,
   "id": "f0ec545d-2af6-4ecf-8e33-aaa933e8fa8c",
   "metadata": {},
   "outputs": [],
   "source": [
    "#Question 3\n",
    "\"\"\"Iterator in Python is an object that is used to iterate over iterable objects like lists, tuples, dicts, and sets. The iterator object is initialized using the iter() method. It uses the next() method for iteration.\n",
    "\n",
    "__iter__(): The iter() method is called for the initialization of an iterator. This returns an iterator object\n",
    "__next__(): The next method returns the next value for the iterable.\"\"\"\n",
    "\n",
    "\n",
    "\n",
    "l=[2, 4, 6, 8, 10, 12, 14,16,18,20]\n",
    "it=iter(l)\n"
   ]
  },
  {
   "cell_type": "code",
   "execution_count": 25,
   "id": "591f20cc-7684-4bd9-b484-26668c654152",
   "metadata": {},
   "outputs": [
    {
     "name": "stdout",
     "output_type": "stream",
     "text": [
      "2\n"
     ]
    }
   ],
   "source": [
    "print(next(it))"
   ]
  },
  {
   "cell_type": "code",
   "execution_count": 26,
   "id": "828f7ff1-b978-46c6-b4de-5a0950aa8a52",
   "metadata": {},
   "outputs": [
    {
     "name": "stdout",
     "output_type": "stream",
     "text": [
      "4\n"
     ]
    }
   ],
   "source": [
    "print(next(it))"
   ]
  },
  {
   "cell_type": "code",
   "execution_count": 27,
   "id": "68ddb7a5-1286-4cec-9857-17e282606895",
   "metadata": {},
   "outputs": [],
   "source": [
    "#Question 4\n",
    "# Generator functions are function to produce a sequence without storing all the values in memory. It give value ine at a time.\n",
    "#Yield is used to create generator function. It yield a value when a next is called for the generator function.\n",
    "\n",
    "\n",
    "def gen():\n",
    "    for i in range (0,1000):\n",
    "        yield i"
   ]
  },
  {
   "cell_type": "code",
   "execution_count": 30,
   "id": "a6a20c3e-d085-4303-ad0c-290c5306417c",
   "metadata": {},
   "outputs": [
    {
     "name": "stdout",
     "output_type": "stream",
     "text": [
      "0\n",
      "1\n",
      "2\n"
     ]
    }
   ],
   "source": [
    "x=gen()\n",
    "print(next(x))\n",
    "print(next(x))\n",
    "print(next(x))"
   ]
  },
  {
   "cell_type": "code",
   "execution_count": 50,
   "id": "08adb015-90ad-41b9-8996-44c469713471",
   "metadata": {},
   "outputs": [],
   "source": [
    "# Queston 5\n",
    "\n",
    "def prime():\n",
    "    \n",
    "    for i in range(2,1000):\n",
    "        isprim = True\n",
    "        for y in range(2,i):\n",
    "            if i%y==0:\n",
    "                isprim=False\n",
    "        if isprim == True:\n",
    "            yield i      "
   ]
  },
  {
   "cell_type": "code",
   "execution_count": 51,
   "id": "8171993b-c8e2-4e3e-9c4a-cb463c1b9e3e",
   "metadata": {},
   "outputs": [],
   "source": [
    "x=prime()"
   ]
  },
  {
   "cell_type": "code",
   "execution_count": 56,
   "id": "729b0060-3092-4b40-8060-719fd7027f06",
   "metadata": {},
   "outputs": [
    {
     "name": "stdout",
     "output_type": "stream",
     "text": [
      "11\n"
     ]
    }
   ],
   "source": [
    "print(next(x))"
   ]
  },
  {
   "cell_type": "code",
   "execution_count": 61,
   "id": "7a94ea6f-2878-4b9b-a9f0-a9f39d1774f1",
   "metadata": {},
   "outputs": [
    {
     "name": "stdout",
     "output_type": "stream",
     "text": [
      "Fibonacci sequence:\n",
      "0\n",
      "1\n",
      "1\n",
      "2\n",
      "3\n",
      "5\n",
      "8\n",
      "13\n",
      "21\n",
      "34\n"
     ]
    }
   ],
   "source": [
    "#question 6\n",
    "n1,n2=0,1\n",
    "count=0\n",
    "print(\"Fibonacci sequence:\")\n",
    "while count < 10:\n",
    "        print(n1)\n",
    "        nth = n1 + n2\n",
    "        n1 = n2\n",
    "        n2 = nth\n",
    "        count += 1"
   ]
  },
  {
   "cell_type": "code",
   "execution_count": 62,
   "id": "a654d024-d49b-4861-a786-6e00f340f86d",
   "metadata": {},
   "outputs": [
    {
     "data": {
      "text/plain": [
       "['p', 'w', 's', 'k', 'i', 'l', 'l', 's']"
      ]
     },
     "execution_count": 62,
     "metadata": {},
     "output_type": "execute_result"
    }
   ],
   "source": [
    "#QUestion 7\n",
    "letter=[i for i in \"pwskills\"]\n",
    "letter"
   ]
  },
  {
   "cell_type": "code",
   "execution_count": 71,
   "id": "2b98d650-825e-46be-a985-1d8b008ebf44",
   "metadata": {},
   "outputs": [
    {
     "name": "stdin",
     "output_type": "stream",
     "text": [
      "Enter the number to check palindrome 123321\n"
     ]
    },
    {
     "name": "stdout",
     "output_type": "stream",
     "text": [
      "The number is palindrome\n"
     ]
    }
   ],
   "source": [
    "#Question 8\n",
    "\n",
    "num=int(input(\"Enter the number to check palindrome\"))\n",
    "num1=num\n",
    "rev=0\n",
    "while(num>0):\n",
    "    dig=num%10\n",
    "    rev=rev*10+dig\n",
    "    num=num//10\n",
    "if num1==rev:\n",
    "    print(\"The number is palindrome\")\n",
    "else:\n",
    "    print(\"the number is not palindrome\")"
   ]
  },
  {
   "cell_type": "code",
   "execution_count": 67,
   "id": "b9cce4d6-e9d6-4b9c-8395-2c363173c84f",
   "metadata": {},
   "outputs": [],
   "source": [
    "#Question 9\n",
    "\n",
    "num=[i for i in range(0,100) if i%2!=0]"
   ]
  },
  {
   "cell_type": "code",
   "execution_count": 68,
   "id": "ef9069ad-bd43-4c90-b25b-1061718fe32d",
   "metadata": {},
   "outputs": [
    {
     "data": {
      "text/plain": [
       "[1,\n",
       " 3,\n",
       " 5,\n",
       " 7,\n",
       " 9,\n",
       " 11,\n",
       " 13,\n",
       " 15,\n",
       " 17,\n",
       " 19,\n",
       " 21,\n",
       " 23,\n",
       " 25,\n",
       " 27,\n",
       " 29,\n",
       " 31,\n",
       " 33,\n",
       " 35,\n",
       " 37,\n",
       " 39,\n",
       " 41,\n",
       " 43,\n",
       " 45,\n",
       " 47,\n",
       " 49,\n",
       " 51,\n",
       " 53,\n",
       " 55,\n",
       " 57,\n",
       " 59,\n",
       " 61,\n",
       " 63,\n",
       " 65,\n",
       " 67,\n",
       " 69,\n",
       " 71,\n",
       " 73,\n",
       " 75,\n",
       " 77,\n",
       " 79,\n",
       " 81,\n",
       " 83,\n",
       " 85,\n",
       " 87,\n",
       " 89,\n",
       " 91,\n",
       " 93,\n",
       " 95,\n",
       " 97,\n",
       " 99]"
      ]
     },
     "execution_count": 68,
     "metadata": {},
     "output_type": "execute_result"
    }
   ],
   "source": [
    "num"
   ]
  },
  {
   "cell_type": "code",
   "execution_count": null,
   "id": "ee9f7907-8b80-4b88-935a-f70f1ec7d76c",
   "metadata": {},
   "outputs": [],
   "source": []
  }
 ],
 "metadata": {
  "kernelspec": {
   "display_name": "Python 3 (ipykernel)",
   "language": "python",
   "name": "python3"
  },
  "language_info": {
   "codemirror_mode": {
    "name": "ipython",
    "version": 3
   },
   "file_extension": ".py",
   "mimetype": "text/x-python",
   "name": "python",
   "nbconvert_exporter": "python",
   "pygments_lexer": "ipython3",
   "version": "3.10.6"
  }
 },
 "nbformat": 4,
 "nbformat_minor": 5
}

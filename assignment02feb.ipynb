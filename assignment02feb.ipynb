{
 "cells": [
  {
   "cell_type": "code",
   "execution_count": 4,
   "id": "b9a80c21-a51e-4679-a430-cb253de315a2",
   "metadata": {},
   "outputs": [
    {
     "name": "stdin",
     "output_type": "stream",
     "text": [
      "how many times a loop should be iterated? 15\n"
     ]
    },
    {
     "name": "stdout",
     "output_type": "stream",
     "text": [
      "*\n",
      "*\n",
      "*\n",
      "*\n",
      "*\n",
      "*\n",
      "*\n",
      "*\n",
      "*\n",
      "*\n",
      "*\n",
      "*\n",
      "*\n",
      "*\n",
      "*\n"
     ]
    },
    {
     "name": "stdin",
     "output_type": "stream",
     "text": [
      "if you want to come out of this loop enter Y h\n",
      "if you want to come out of this loop enter Y x\n",
      "if you want to come out of this loop enter Y b\n",
      "if you want to come out of this loop enter Y h\n",
      "if you want to come out of this loop enter Y m\n",
      "if you want to come out of this loop enter Y y\n",
      "if you want to come out of this loop enter Y Y\n"
     ]
    }
   ],
   "source": [
    "#Question 1:Explain with example each when to use a for loop and a while loop?\n",
    "#Ansewer: When we know how many times the loop is going to work then wwe generally use for loop. But when the loop is iterated till a specific condition only then we use a while loop  \n",
    "\n",
    "#example of for loop\n",
    "n=int(input(\"how many times a loop should be iterated?\"))\n",
    "for i in range(n):\n",
    "    print(\"*\")\n",
    "\n",
    "# example of while loop\n",
    "a=\"*\"\n",
    "while a !=\"Y\":\n",
    "    a=input(\"if you want to come out of this loop enter Y\")\n",
    "    "
   ]
  },
  {
   "cell_type": "code",
   "execution_count": 3,
   "id": "bf2f8e2c-a7da-4221-a99e-49ec92ef9293",
   "metadata": {},
   "outputs": [
    {
     "name": "stdout",
     "output_type": "stream",
     "text": [
      "the sum of 10 natural number is  55\n",
      " the product of 10 natural number is  3628800\n",
      "The sum of 10 natural number is  55\n",
      " The product of 10 natural number is  3628800\n"
     ]
    }
   ],
   "source": [
    "#Question 2\n",
    "#using for loop\n",
    "sum1=0\n",
    "prod1=1\n",
    "for i in range(1,11):\n",
    "    sum1=sum1+i\n",
    "    prod1=prod1*i\n",
    "print (\"the sum of 10 natural number is \", sum1 )\n",
    "print(\" the product of 10 natural number is \",prod1)\n",
    "\n",
    "#using while loop\n",
    "sum2=0\n",
    "prod2=1\n",
    "j=1\n",
    "while j<=10:\n",
    "    sum2=sum2+j\n",
    "    prod2=prod2*j\n",
    "    j=j+1\n",
    "print (\"The sum of 10 natural number is \", sum2 )\n",
    "print(\" The product of 10 natural number is \",prod2)\n"
   ]
  },
  {
   "cell_type": "code",
   "execution_count": 8,
   "id": "1d1b69bb-3aa0-4181-99f0-7c507a1d85b7",
   "metadata": {},
   "outputs": [
    {
     "name": "stdin",
     "output_type": "stream",
     "text": [
      "Enter the number of unit of bill consumed 310\n"
     ]
    },
    {
     "name": "stdout",
     "output_type": "stream",
     "text": [
      "You Elctricity bill is  2250.0\n"
     ]
    }
   ],
   "source": [
    "#Question 4\n",
    "#Electricity bill \n",
    "unit=int(input(\"Enter the number of unit of bill consumed\"))\n",
    "bill=0\n",
    "\n",
    "if unit > 300:\n",
    "    bill = 20*(unit-300) + 100*10 + 100 *6 + 100*4.5\n",
    "elif unit <=300 and unit>200:\n",
    "    bill = 10*(unit-200) + 100*6 + 100*4.5\n",
    "elif unit<=200 and unit >100:\n",
    "    bill = 6*(unit - 100) + 100*4.5\n",
    "else :\n",
    "    bill = unit*4.5\n",
    "\n",
    "print(\"You Elctricity bill is \",bill)\n",
    "   "
   ]
  },
  {
   "cell_type": "code",
   "execution_count": 13,
   "id": "108b07f5-5419-4da6-a5b7-3383d063963e",
   "metadata": {},
   "outputs": [
    {
     "data": {
      "text/plain": [
       "[8,\n",
       " 64,\n",
       " 125,\n",
       " 216,\n",
       " 512,\n",
       " 1000,\n",
       " 1728,\n",
       " 2744,\n",
       " 3375,\n",
       " 4096,\n",
       " 5832,\n",
       " 8000,\n",
       " 10648,\n",
       " 13824,\n",
       " 15625,\n",
       " 17576,\n",
       " 21952,\n",
       " 27000,\n",
       " 32768,\n",
       " 39304,\n",
       " 42875,\n",
       " 46656,\n",
       " 54872,\n",
       " 64000,\n",
       " 74088,\n",
       " 85184,\n",
       " 91125,\n",
       " 97336,\n",
       " 110592,\n",
       " 125000,\n",
       " 140608,\n",
       " 157464,\n",
       " 166375,\n",
       " 175616,\n",
       " 195112,\n",
       " 216000,\n",
       " 238328,\n",
       " 262144,\n",
       " 274625,\n",
       " 287496,\n",
       " 314432,\n",
       " 343000,\n",
       " 373248,\n",
       " 405224,\n",
       " 421875,\n",
       " 438976,\n",
       " 474552,\n",
       " 512000,\n",
       " 551368,\n",
       " 592704,\n",
       " 614125,\n",
       " 636056,\n",
       " 681472,\n",
       " 729000,\n",
       " 778688,\n",
       " 830584,\n",
       " 857375,\n",
       " 884736,\n",
       " 941192,\n",
       " 1000000]"
      ]
     },
     "execution_count": 13,
     "metadata": {},
     "output_type": "execute_result"
    }
   ],
   "source": [
    "#Qustion 5\n",
    "y=0\n",
    "l=[]\n",
    "for i in range(1,101):\n",
    "    y=i**3\n",
    "    if y%4==0 or y%5==0:\n",
    "        l.append(y)\n",
    "    else :\n",
    "        continue\n",
    "l"
   ]
  },
  {
   "cell_type": "code",
   "execution_count": 16,
   "id": "b5783cd2-42f5-4e7d-bd60-ce245fcdc78f",
   "metadata": {},
   "outputs": [
    {
     "data": {
      "text/plain": [
       "['I', 'a', 'o', 'e', 'o', 'e', 'a', 'a', 'a', 'i', 'e', 'i']"
      ]
     },
     "execution_count": 16,
     "metadata": {},
     "output_type": "execute_result"
    }
   ],
   "source": [
    "#Question 5\n",
    "\n",
    "s=\"I want to become a data scientist\"\n",
    "vowel=\"aeiouAEIOU\"\n",
    "l=[]\n",
    "for i in s:\n",
    "    if i in vowel:\n",
    "        l.append(i)\n",
    "    else:\n",
    "        continue\n",
    "l"
   ]
  },
  {
   "cell_type": "code",
   "execution_count": null,
   "id": "584e69a5-b9d9-43c3-bd6c-0f96cef67f35",
   "metadata": {},
   "outputs": [],
   "source": []
  }
 ],
 "metadata": {
  "kernelspec": {
   "display_name": "Python 3 (ipykernel)",
   "language": "python",
   "name": "python3"
  },
  "language_info": {
   "codemirror_mode": {
    "name": "ipython",
    "version": 3
   },
   "file_extension": ".py",
   "mimetype": "text/x-python",
   "name": "python",
   "nbconvert_exporter": "python",
   "pygments_lexer": "ipython3",
   "version": "3.10.6"
  }
 },
 "nbformat": 4,
 "nbformat_minor": 5
}

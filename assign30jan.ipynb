{
 "cells": [
  {
   "cell_type": "code",
   "execution_count": 3,
   "id": "b1908417-92ff-4d83-8ab4-04398c4648d2",
   "metadata": {},
   "outputs": [
    {
     "name": "stdin",
     "output_type": "stream",
     "text": [
      "Enter the marks to check the grade 23\n"
     ]
    },
    {
     "name": "stdout",
     "output_type": "stream",
     "text": [
      "Grade D\n"
     ]
    }
   ],
   "source": [
    "# question 1....\n",
    "# This is a program to give the grade for the user input marks.\n",
    "\n",
    "marks = int(input( 'Enter the marks to check the grade'))\n",
    "if marks > 90:\n",
    "    print(\"Grade A\")\n",
    "elif marks <= 90 and marks > 80:\n",
    "    print(\"Grade B\")\n",
    "elif marks <= 80 and marks > 60:\n",
    "    print(\"Grade C\")\n",
    "else:\n",
    "    print(\"Grade D\")\n",
    "    "
   ]
  },
  {
   "cell_type": "code",
   "execution_count": 8,
   "id": "4634048e-8069-4af1-ad81-eae4a5aeb74d",
   "metadata": {},
   "outputs": [
    {
     "name": "stdin",
     "output_type": "stream",
     "text": [
      " Enter the bike prize in rupee  50000\n"
     ]
    },
    {
     "name": "stdout",
     "output_type": "stream",
     "text": [
      "The tax amount is 2500.0\n"
     ]
    }
   ],
   "source": [
    "# question \n",
    "#This program will show the tax on bike price given by user.\n",
    "\n",
    "prize = int( input( ' Enter the bike prize in rupee '))\n",
    "tax = 0\n",
    "\n",
    "if prize > 100000:\n",
    "    tax = .15 * prize\n",
    "    print ('The tax amount is', tax)\n",
    "elif prize <= 100000 and prize >50000:\n",
    "    tax = .10 * prize\n",
    "    print('The tax amount is', tax)\n",
    "else:\n",
    "    tax = .05 * prize\n",
    "    print ('The tax amount is', tax)\n",
    "    "
   ]
  },
  {
   "cell_type": "code",
   "execution_count": 17,
   "id": "75b50d5f-5320-4a1d-8bfd-68509168d35e",
   "metadata": {},
   "outputs": [
    {
     "name": "stdin",
     "output_type": "stream",
     "text": [
      "Enter the name of the city to show the name of monument delHi\n"
     ]
    },
    {
     "name": "stdout",
     "output_type": "stream",
     "text": [
      "The monument is  Red fort\n"
     ]
    }
   ],
   "source": [
    "#Question 3\n",
    "# This program shows the monuments in the city entered by user \n",
    "\n",
    "monu = {\"delhi\":\"Red fort\", \"agra \": \"Taj mahal\", \"jaipur\":\"Jal mahal\"}\n",
    "\n",
    "city = input(\"Enter the name of the city to show the name of monument\")\n",
    "city = city.lower()\n",
    "if city in monu.keys():\n",
    "    print(\"The monument is \",monu[city])\n",
    "else :\n",
    "    print (\"The name of city entered is not in our data \")\n",
    "    \n",
    "    "
   ]
  },
  {
   "cell_type": "code",
   "execution_count": 21,
   "id": "c334854d-bab9-42d0-9464-ece7539bea7e",
   "metadata": {},
   "outputs": [
    {
     "name": "stdin",
     "output_type": "stream",
     "text": [
      "Enter the number 270\n"
     ]
    },
    {
     "name": "stdout",
     "output_type": "stream",
     "text": [
      "The entered number is divided by 3 for 3\n"
     ]
    }
   ],
   "source": [
    "#Question 4\n",
    "# This program shows how many times a number is divided by 3 before becoming less or equal to 10.\n",
    "\n",
    "num = int(input ('Enter the number'))\n",
    "count = 0\n",
    "\n",
    "while num > 10:\n",
    "    num = num/3\n",
    "    count = count + 1\n",
    "\n",
    "print (\"The entered number is divided by 3 for\", count )"
   ]
  },
  {
   "cell_type": "code",
   "execution_count": 22,
   "id": "ca29cc4b-9082-4647-b0cb-0b9a079416a9",
   "metadata": {},
   "outputs": [],
   "source": [
    "# question 5 \n",
    "# We use while in programm when we don't know how many times the loop should work, we know the condition when to stop loop.\n"
   ]
  },
  {
   "cell_type": "code",
   "execution_count": 2,
   "id": "cd7b4aad-09ab-43a0-962b-75d67efed81a",
   "metadata": {},
   "outputs": [
    {
     "name": "stdout",
     "output_type": "stream",
     "text": [
      "**********\n",
      "**********\n",
      "**********\n",
      "**********\n",
      "**********\n",
      "**********\n",
      "**********\n",
      "**********\n",
      "**********\n",
      "**********\n",
      "\n",
      "*\n",
      "**\n",
      "***\n",
      "****\n",
      "*****\n",
      "******\n",
      "*******\n",
      "********\n",
      "*********\n",
      "\n",
      "*\n",
      "**\n",
      "***\n",
      "****\n",
      "*****\n",
      "******\n",
      "*******\n",
      "********\n",
      "*********\n",
      "**********\n",
      "*********\n",
      "********\n",
      "*******\n",
      "******\n",
      "*****\n",
      "****\n",
      "***\n",
      "**\n",
      "*\n"
     ]
    }
   ],
   "source": [
    "#Quesstion 6\n",
    "# Programm to show three pattern \n",
    "for i in range(0,10):\n",
    "    for j in range(0,10):\n",
    "        print(\"*\", end=\"\")\n",
    "    print(\"\")\n",
    "\n",
    "\n",
    "for i in range(0,10):\n",
    "    for j in range(0,i):\n",
    "        print(\"*\", end=\"\")\n",
    "    print(\"\")\n",
    "    \n",
    "for i in range(0,10):\n",
    "    for j in range(0,i):\n",
    "        print(\"*\", end=\"\")\n",
    "    print(\"\")\n",
    "    \n",
    "    \n",
    "for i in range(0,10):\n",
    "    for j in range(10,i,-1):\n",
    "        print(\"*\", end=\"\")\n",
    "    print(\"\")"
   ]
  },
  {
   "cell_type": "code",
   "execution_count": 1,
   "id": "70797f31-20be-4d6f-95a6-c6ebc2517f4b",
   "metadata": {},
   "outputs": [
    {
     "name": "stdout",
     "output_type": "stream",
     "text": [
      "10\n",
      "9\n",
      "8\n",
      "7\n",
      "6\n",
      "5\n",
      "4\n",
      "3\n",
      "2\n",
      "1\n"
     ]
    }
   ],
   "source": [
    "#Qustion 7\n",
    "# Numbers from 10 to 1\n",
    "\n",
    "a=10\n",
    "while a>=1:\n",
    "    print(a)\n",
    "    a=a-1\n",
    "    "
   ]
  },
  {
   "cell_type": "code",
   "execution_count": null,
   "id": "a3f939f4-8046-4f0e-8f4c-f27001eb22f7",
   "metadata": {},
   "outputs": [],
   "source": []
  }
 ],
 "metadata": {
  "kernelspec": {
   "display_name": "Python 3 (ipykernel)",
   "language": "python",
   "name": "python3"
  },
  "language_info": {
   "codemirror_mode": {
    "name": "ipython",
    "version": 3
   },
   "file_extension": ".py",
   "mimetype": "text/x-python",
   "name": "python",
   "nbconvert_exporter": "python",
   "pygments_lexer": "ipython3",
   "version": "3.10.8"
  }
 },
 "nbformat": 4,
 "nbformat_minor": 5
}

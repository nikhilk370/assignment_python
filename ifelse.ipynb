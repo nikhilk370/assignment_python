{
 "cells": [
  {
   "cell_type": "code",
   "execution_count": 1,
   "id": "b8728420-b4a3-4e56-ac45-48e13021be4b",
   "metadata": {},
   "outputs": [],
   "source": [
    "l=[2,34,'nik', 'kumar', 3,4,6, 'khushbu']\n",
    "l1=[]\n",
    "l2=[]\n",
    "for i in l:\n",
    "    if type(i)==int:\n",
    "        l1.append(i)\n",
    "    else:\n",
    "        l2.append(i)"
   ]
  },
  {
   "cell_type": "code",
   "execution_count": 2,
   "id": "17c9c845-327d-4bf1-b565-b3d617ca0dc4",
   "metadata": {},
   "outputs": [
    {
     "data": {
      "text/plain": [
       "[2, 34, 3, 4, 6]"
      ]
     },
     "execution_count": 2,
     "metadata": {},
     "output_type": "execute_result"
    }
   ],
   "source": [
    "l1"
   ]
  },
  {
   "cell_type": "code",
   "execution_count": 3,
   "id": "bc40993c-4594-4544-a815-bc129b5f2b99",
   "metadata": {},
   "outputs": [
    {
     "data": {
      "text/plain": [
       "['nik', 'kumar', 'khushbu']"
      ]
     },
     "execution_count": 3,
     "metadata": {},
     "output_type": "execute_result"
    }
   ],
   "source": [
    "l2"
   ]
  },
  {
   "cell_type": "code",
   "execution_count": null,
   "id": "9631d7c4-5ce5-48a0-b82b-7e738f3b7b19",
   "metadata": {},
   "outputs": [],
   "source": []
  }
 ],
 "metadata": {
  "kernelspec": {
   "display_name": "Python 3 (ipykernel)",
   "language": "python",
   "name": "python3"
  },
  "language_info": {
   "codemirror_mode": {
    "name": "ipython",
    "version": 3
   },
   "file_extension": ".py",
   "mimetype": "text/x-python",
   "name": "python",
   "nbconvert_exporter": "python",
   "pygments_lexer": "ipython3",
   "version": "3.10.6"
  }
 },
 "nbformat": 4,
 "nbformat_minor": 5
}

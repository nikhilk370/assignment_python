{
 "cells": [
  {
   "cell_type": "code",
   "execution_count": 2,
   "id": "86ab1a8e-2e29-4c26-9e94-ddb4fcf45558",
   "metadata": {},
   "outputs": [
    {
     "name": "stdout",
     "output_type": "stream",
     "text": [
      "4134711838987085478833841242112000\n"
     ]
    }
   ],
   "source": [
    "# Question 1  -  Calculating Product of all the numbers in the given list .\n",
    "l = [1,2,3,4, [44,55,66, True], False, (34,56,78,89,34), {1,2,3,3,2,1}, {1:34, \"key2\": [55, 67, 78, 89], 4: (45,\n",
    "22, 61, 34)}, [56, 'data science'], 'Machine Learning']\n",
    "from functools import reduce \n",
    "# Creating a Function for filtering individual intergers \n",
    "def func(l):\n",
    "    \n",
    "    def check(x,y):\n",
    "        if type(x) == int or type(x) == float:\n",
    "            y.append(x)\n",
    "        if type(x) == list or type(x) == tuple or type(x) == set:\n",
    "            for b in x:\n",
    "                y.append(b)\n",
    "                \n",
    "    l1 = []\n",
    "    for a in l:\n",
    "        check(a,l1)\n",
    "        if type(a) == dict:\n",
    "            for c in list(a.keys()):\n",
    "                check(c,l1)\n",
    "            for e in list(a.values()):\n",
    "                check(e,l1)\n",
    "            \n",
    "    filtered = list(filter(lambda x:type(x) == int,l1))\n",
    "    return filtered\n",
    "\n",
    "sumoflist = func(l)\n",
    "print(reduce(lambda x,y:x*y,sumoflist))         \n"
   ]
  },
  {
   "cell_type": "code",
   "execution_count": 3,
   "id": "493ae477-7a2a-48e3-8b86-d3f23714aa7b",
   "metadata": {},
   "outputs": [
    {
     "name": "stdout",
     "output_type": "stream",
     "text": [
      "r$wzmg$gl$yvxlmv$z$wzgz$hxrvmgrhg.\n"
     ]
    }
   ],
   "source": [
    "# Question 2 \n",
    "statement = 'I want to become a Data Scientist.'.lower()\n",
    "coded = statement\n",
    "l = ' abcdefghijklmnopqrstuvwxyz$'\n",
    "for a in statement:\n",
    "    i = l.find(a)\n",
    "    if i == -1 and a != l[-1]: \n",
    "        pass\n",
    "    else:\n",
    "        coded = coded.replace(a,l[-(i+1)])  \n",
    "print(coded)\n"
   ]
  },
  {
   "cell_type": "code",
   "execution_count": null,
   "id": "202c7b89-19de-42fb-9f89-c86daa07750b",
   "metadata": {},
   "outputs": [],
   "source": []
  }
 ],
 "metadata": {
  "kernelspec": {
   "display_name": "Python 3 (ipykernel)",
   "language": "python",
   "name": "python3"
  },
  "language_info": {
   "codemirror_mode": {
    "name": "ipython",
    "version": 3
   },
   "file_extension": ".py",
   "mimetype": "text/x-python",
   "name": "python",
   "nbconvert_exporter": "python",
   "pygments_lexer": "ipython3",
   "version": "3.10.6"
  }
 },
 "nbformat": 4,
 "nbformat_minor": 5
}
